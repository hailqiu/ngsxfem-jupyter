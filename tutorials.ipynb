{
 "cells": [
  {
   "cell_type": "markdown",
   "metadata": {},
   "source": [
    "Interactive Tutorial to ngsxfem\n",
    "====\n",
    "\n",
    "This material provides a basic introduction to the `ngsxfem` library for `NGSolve`. "
   ]
  },
  {
   "cell_type": "markdown",
   "metadata": {},
   "source": [
    "#### Prerequisites for the tutorials"
   ]
  },
  {
   "cell_type": "markdown",
   "metadata": {},
   "source": [
    "In these tutorials we use `ipywidgets` that you can install with executing the following cell:"
   ]
  },
  {
   "cell_type": "code",
   "execution_count": 1,
   "metadata": {},
   "outputs": [
    {
     "name": "stdout",
     "output_type": "stream",
     "text": [
      "Requirement already satisfied: ipywidgets in /usr/lib/python3.7/site-packages (7.4.2)\n",
      "Enabling notebook extension jupyter-js-widgets/extension...\n",
      "      - Validating: \u001b[32mOK\u001b[0m\n"
     ]
    }
   ],
   "source": [
    "!pip3 install --user ipywidgets\n",
    "!jupyter nbextension enable --py widgetsnbextension"
   ]
  },
  {
   "cell_type": "markdown",
   "metadata": {},
   "source": [
    "You need to restart jupyter now."
   ]
  },
  {
   "cell_type": "markdown",
   "metadata": {
    "collapsed": true
   },
   "source": [
    "\n",
    "\n",
    "### 1. Basic functionality\n",
    "* [basics.ipynb](basics.ipynb) Helper functions (cut position / active mesh)\n",
    "* [intlset.ipynb](intlset.ipynb) Integration on level set domains (linear cut approximation, mesh transformation)\n",
    "\n",
    "### 2. Stationary PDEs\n",
    "* [cutfem.ipynb](cutfem.ipynb) Simple unfitted FEM discretizations\n",
    "\n",
    "### 3. Moving domain problems\n",
    "* [spacetime.ipynb](spacetime.ipynb) Space time discretization of a moving domain problem\n",
    "\n",
    "### 4. Surface PDEs\n",
    "* [tracefem_scalar.ipynb](tracefem_scalar.ipynb) TraceFEM for a scalar PDE on a stationary unfitted surface\n",
    "* [tracefem_vector.ipynb](tracefem_vector.ipynb) TraceFEM for a vectorial PDE on a stationary unfitted surface (Thomas Jankuhn)\n",
    "\n",
    "### 5. Preconditioning\n",
    "* [cutmg.ipynb](cutmg.ipynb) Multigrid Preconditioning for unfitted FEM discretizations (Thomas Ludescher)\n",
    "\n",
    "This material was created by \n",
    "* Fabian Heimann, Christoph Lehrenfeld, Yimin Lou, Janosch Preuss (Univ. Göttingen), [Section 1 to 3]\n",
    "* and Thomas Jankuhn and Thomas Ludescher (RWTH Aachen University)\n",
    "\n",
    "Most of the material is from June 2018 with updates in July 2019."
   ]
  }
 ],
 "metadata": {
  "kernelspec": {
   "display_name": "Python 3",
   "language": "python",
   "name": "python3"
  },
  "language_info": {
   "codemirror_mode": {
    "name": "ipython",
    "version": 3
   },
   "file_extension": ".py",
   "mimetype": "text/x-python",
   "name": "python",
   "nbconvert_exporter": "python",
   "pygments_lexer": "ipython3",
   "version": "3.7.3"
  }
 },
 "nbformat": 4,
 "nbformat_minor": 2
}
