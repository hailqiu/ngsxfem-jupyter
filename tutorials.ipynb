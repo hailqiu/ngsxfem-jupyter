{
 "cells": [
  {
   "cell_type": "markdown",
   "metadata": {
    "collapsed": true
   },
   "source": [
    "Interactive Tutorial to ngsxfem\n",
    "====\n",
    "\n",
    "This material provides a basic introduction to the `ngsxfem` library for `NGSolve`. \n",
    "\n",
    "Fabian Heimann, Christoph Lehrenfeld, Yimin Lou, Janosch Preuss (Univ. Göttingen)\n",
    "and Thomas Jankuhn (RWTH Aachen University), July 2018.\n",
    "\n",
    "### 1. Basic functionality\n",
    "* [basics.ipynb](basics.ipynb) Helper functions (cut position / active mesh)\n",
    "* [intlset.ipynb](intlset.ipynb) Integration on level set domains (linear cut approximation, mesh transformation)\n",
    "\n",
    "### 2. Stationary PDEs\n",
    "* [cutfem.ipynb](cutfem.ipynb) Simple unfitted FEM discretizations\n",
    "\n",
    "### 3. Moving domain problems\n",
    "* [spacetime.ipynb](spacetime.ipynb) Space time discretization of a moving domain problem\n",
    "\n",
    "### 4. Surface PDEs\n",
    "* [tracefem_scalar.ipynb](tracefem_scalar.ipynb) TraceFEM for a scalar PDE on a stationary unfitted surface\n",
    "* [tracefem_vector.ipynb](tracefem_vector.ipynb) TraceFEM for a vectorial PDE on a stationary unfitted surface\n"
   ]
  }
 ],
 "metadata": {
  "kernelspec": {
   "display_name": "Python 3",
   "language": "python",
   "name": "python3"
  },
  "language_info": {
   "codemirror_mode": {
    "name": "ipython",
    "version": 3
   },
   "file_extension": ".py",
   "mimetype": "text/x-python",
   "name": "python",
   "nbconvert_exporter": "python",
   "pygments_lexer": "ipython3",
   "version": "3.6.5"
  }
 },
 "nbformat": 4,
 "nbformat_minor": 2
}
