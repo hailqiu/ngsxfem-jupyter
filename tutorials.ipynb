{
 "cells": [
  {
   "cell_type": "markdown",
   "metadata": {
    "collapsed": true
   },
   "source": [
    "Interactive Tutorial to ngsxfem\n",
    "====\n",
    "Getting started\n",
    "----\n",
    "* [ngsxfem_helper.ipynb](ngsxfem_helper.ipynb) Helper functions (cut position / active mesh)\n",
    "* [intlset.ipynb](intlset.ipynb) Integration on level set domains (linear cut approximation, mesh transformation)\n",
    "* [unfittedFEM.ipynb](unfittedFEM.ipynb) Simple unfitted FEM discretizations\n",
    "* [moving_domain.ipynb](moving_domain.ipynb) Moving domain example (space-time, quadrature in time)\n",
    "* [MoL_TraceFEM.ipynb](MoL_TraceFEM.ipynb) Moving surface PDE (method of lines, TraceFEM)"
   ]
  }
 ],
 "metadata": {
  "kernelspec": {
   "display_name": "Python 3",
   "language": "python",
   "name": "python3"
  },
  "language_info": {
   "codemirror_mode": {
    "name": "ipython",
    "version": 3
   },
   "file_extension": ".py",
   "mimetype": "text/x-python",
   "name": "python",
   "nbconvert_exporter": "python",
   "pygments_lexer": "ipython3",
   "version": "3.6.5"
  }
 },
 "nbformat": 4,
 "nbformat_minor": 2
}
