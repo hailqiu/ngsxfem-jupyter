{
 "cells": [
  {
   "cell_type": "markdown",
   "metadata": {},
   "source": [
    "# A moving surface problem:\n",
    "In this example we consider a moving surface problem:\n",
    "\n",
    "$$\n",
    "\\dot{u} + ({div}_\\Gamma \\mathbf{w} ) u - \\nu \\Delta_\\Gamma u = 0 \\quad on \\quad \\Gamma(t),   \\qquad  t \\in [0,T]   \n",
    "$$\n",
    "where $\\Gamma(t)$ changes in time (while $\\Gamma(t)$ is always smooth) and is described by a level set function $\\phi(t)$.\n",
    "\n",
    "We follow an approach from [1] where we extend the solution u into a small neighborhood $\\mathcal{O}(\\Gamma(t))$ and there solve the related problem\n",
    "\\begin{align}\n",
    "  \\partial_t u + \\mathbf{w} \\cdot \\nabla u + ({div}_\\Gamma \\mathbf{w} ) u - \\nu \\Delta_\\Gamma u &= 0 \\quad \\text{on} \\quad \\Gamma(t) \\\\\n",
    "  \\nabla u \\cdot \\nabla \\phi & = 0 \\quad \\text{in} \\quad \\mathcal{O}(\\Gamma(t)).\n",
    "\\end{align}\n",
    "The second equation determines u to be a constant extension in normal direction of the solution on the surface. This extension allows to evaluate u at an older time instance on the surface which may have moved as long as the neighborhood is sufficiently large. Hence, we require $\\Gamma_h^n \\subset \\mathcal{O}(\\Gamma_h^{n-1})$ where $\\Gamma_h^k,~k=n-1,n$ are the discrete surface approximations of two subsequent time steps.\n",
    "\n",
    "This allows to apply a [method of lines](http://www.scholarpedia.org/article/Method_of_lines) approach. Here, we consider the backward Euler method:\n",
    "\n",
    "\\begin{align}\n",
    "  \\frac{u^n - u^{n-1}}{\\Delta t} + \\mathbf{w}^n \\cdot \\nabla u^n + ({div}_\\Gamma \\mathbf{w}^n ) u^n - \\nu \\Delta_\\Gamma u^n &= 0 \\quad \\text{on} \\quad \\Gamma^n \\\\\n",
    "  \\nabla u^n \\cdot \\nabla \\phi^n & = 0 \\quad \\text{in} \\quad \\mathcal{O}(\\Gamma^n).\n",
    "\\end{align}\n",
    "\n",
    "Note that $u^{n-1}$ is well-defined on $\\Gamma^n$ as $\\Gamma^n \\subset \\mathcal{O}(\\Gamma^{n-1})$.\n",
    "\n",
    "The realization of the extension is included in each time step solves as a stabilization. This simplifies the realization of the extension, but also allows to obtain reasonable condition number bounds. Let $V_h^n$ be the finite element space to the part of the mesh that is touched by $\\mathcal{0}(\\Gamma^n)$, then every time step is discretized with (for $u^{n-1} \\in V_h^{n-1} \\subset L^2(\\mathcal{O}(\\Gamma^{n-1})$):\n",
    "\n",
    "Find $u_h^n \\in V_h^n$, s.t.\n",
    "\\begin{align}\n",
    "  \\int_{\\Gamma_h^n} \\left\\{ \\frac{u_h^n -u_h^{n-1}}{\\Delta t} v_h + \\frac12 (w_T^e \\cdot \\nabla_{\\Gamma_h} u_h^n v_h - \\mathbf{w}_T^e \\cdot \\nabla_{\\Gamma_h} v_h u_h^n) + ({div}_{\\Gamma_h} (\\mathbf{w}^e -\\frac12 \\mathbf{w}_T^e) u_h^n v_h \\right \\} ds_h &  \\\\\n",
    "  + \\nu \\int_{\\Gamma_h^n} \\nabla_{\\Gamma_h} u_h^n \\cdot \\nabla_{\\Gamma_h} v_h ds_h + \\rho_n \\int_{\\mathcal{O}(\\Gamma_h^n)} (\\mathbf{n}_h \\cdot \\nabla u_h^n) (\\mathbf{n}_h \\cdot \\nabla v_h^n) d \\mathbf{x} & = 0\n",
    "\\end{align}\n",
    "for all $v_h \\in V_h^n$.\n",
    "Here $\\mathbf{w}^e$ and $\\mathbf{w}_T^e$ denote the extensions of $\\mathbf{w}$ and $\\mathbf{w}_T$ to a neighborhood of $\\Gamma(t)$.\n",
    "Literature:\n",
    "----------------------\n",
    "[1]: C. Lehrenfeld, M.A. Olshanskii, and X. Xu. A stabilized trace finite element method for partial differential equations on evolving surfaces. arXiv preprint arXiv:1709.07117, 2017. [ [http](https://arxiv.org/abs/1709.07117) | [.pdf](https://arxiv.org/pdf/1709.05832.pdf) ]\n"
   ]
  },
  {
   "cell_type": "code",
   "execution_count": null,
   "metadata": {},
   "outputs": [],
   "source": [
    "import netgen.gui\n",
    "%gui tk\n",
    "import tkinter\n",
    "\n",
    "from ngsolve import *\n",
    "from ngsolve.internal import *\n",
    "from xfem import *\n",
    "from netgen.geom2d import SplineGeometry\n"
   ]
  },
  {
   "cell_type": "markdown",
   "metadata": {},
   "source": [
    "## Description of the time-dependent geometry\n",
    "\n",
    "We use a levelset function $\\phi(t) =  \\Vert \\mathbf{x}-\\mathbf{w}t \\Vert - r_{0}$ with\n",
    "$r_{0} = 1/2$ and $\\mathbf{w} = (1,0)$, to describe the evolving geometry. \n",
    "The moving surface is then given as the set of points where the levelset function takes zero values:\n",
    "$ \\Gamma(t) = \\{ (x,y) \\in \\Omega \\mid \\phi(x,y,t) = 0 \\}$.\n",
    "The time-dependent surface $\\Gamma(t)$ is contained in a larger, time-independent domain $\\Omega = [-1,1.2] \\times [-1,1]$.\n",
    "The mesh is constructed on the background domain $\\Omega$ and unfitted to $\\Gamma(t)$.\n",
    "We provide $\\mathbf{w}$, $\\phi$, $div_{\\Gamma} \\mathbf{w}^e$ and $div_{\\Gamma} \\mathbf{w}_T^e$ as functions:"
   ]
  },
  {
   "cell_type": "code",
   "execution_count": null,
   "metadata": {},
   "outputs": [],
   "source": [
    "geom = SplineGeometry()\n",
    "geom.AddRectangle([-1,-1],[1.2,1],bc=1)\n",
    "ngmesh = geom.GenerateMesh(maxh=0.125, quad=False)\n",
    "mesh = Mesh (ngmesh)\n",
    "\n",
    "vel = 1\n",
    "R = 0.5\n",
    "def velocity_function(t):\n",
    "    return CoefficientFunction((vel,0))\n",
    "def levelset_function(t):\n",
    "    return sqrt((x-vel*t)*(x-vel*t)+y*y) - R\n",
    "def divGwT_function(t):\n",
    "    return -vel/(R*R)*(x-vel*t)\n",
    "def divGw_function(t):\n",
    "    return 0.0\n"
   ]
  },
  {
   "cell_type": "markdown",
   "metadata": {},
   "source": [
    "## An example solution\n",
    "In this geometrical configuration, we consider the following solution (for the initial data):"
   ]
  },
  {
   "cell_type": "code",
   "execution_count": null,
   "metadata": {},
   "outputs": [],
   "source": [
    "def solution_function(t):\n",
    "    return 1 + (x+y - vel*t)*exp(-2*t)"
   ]
  },
  {
   "cell_type": "markdown",
   "metadata": {},
   "source": [
    "## P1 level set approximation\n",
    "The level set function is approximated by a piecewise linear function and corresponding normal and tangential projections are defined."
   ]
  },
  {
   "cell_type": "code",
   "execution_count": null,
   "metadata": {},
   "outputs": [],
   "source": [
    "t = Parameter(0)\n",
    "\n",
    "levelset = levelset_function(t)\n",
    "Draw(levelset,mesh,\"lset\")\n",
    "\n",
    "lset_approx = GridFunction(H1(mesh,order=1))\n",
    "lset_if  = { \"levelset\" : lset_approx, \"domain_type\" : IF , \"subdivlvl\" : 0}\n",
    "n = 1.0/sqrt(InnerProduct(grad(lset_approx),grad(lset_approx))) * grad(lset_approx)\n",
    "h = specialcf.mesh_size\n",
    "  \n",
    "def P(u):\n",
    "    return u - (u*n)*n"
   ]
  },
  {
   "cell_type": "markdown",
   "metadata": {},
   "source": [
    "## P1 TraceFEM\n",
    "For the TraceFEM we consider the restriction of a standard P1 finite element space to the discrete surface:"
   ]
  },
  {
   "cell_type": "code",
   "execution_count": null,
   "metadata": {},
   "outputs": [],
   "source": [
    "VhG = H1(mesh, order=1, dirichlet=[])\n",
    "u = VhG.TrialFunction()\n",
    "v = VhG.TestFunction()\n",
    "  \n",
    "gfu = GridFunction(VhG)\n",
    "gfu.Set(solution_function(0))"
   ]
  },
  {
   "cell_type": "markdown",
   "metadata": {},
   "source": [
    "## Visualization band of elements\n",
    "The active band of elements does not only include the elements that are intersected by the discrete interface but also include a band of a size that depends on the maximum velocity and the time step. Quantities are visualized on this band the BitArrays to which are corresponding initialized:"
   ]
  },
  {
   "cell_type": "code",
   "execution_count": null,
   "metadata": {},
   "outputs": [],
   "source": [
    "#visualization of active band elements\n",
    "visband = GridFunction(L2(mesh,order=0))\n",
    "nan=float(\"nan\")\n",
    "\n",
    "Draw(IfPos(visband-0.1,levelset,nan),mesh,\"lset\")\n",
    "  \n",
    "ba_band_IF = BitArray(mesh.ne)\n",
    "ba_band_IF_P = BitArray(mesh.ne)\n",
    "ba_band_IF_M = BitArray(mesh.ne)\n",
    "  \n",
    "visoptions.mminval = -0.001\n",
    "visoptions.mmaxval = 0.001\n",
    "visoptions.deformation = 1\n",
    "visoptions.scaledeform1 = 0.0001\n",
    "visoptions.autoscale = 0\n",
    "\n",
    "def UpdateBand(lset,offset,ba_band_IF):\n",
    "   ba_band_IF.Clear()\n",
    "   ba_band_IF_P = BitArray(ba_band_IF)\n",
    "   ba_band_IF_P.Clear()\n",
    "   ba_band_IF_M = BitArray(ba_band_IF)\n",
    "   ba_band_IF_M.Clear()\n",
    "\n",
    "   # all elements that have level set values in [-offset,+offset] with offset = vel * dt\n",
    "   lset_approx_band = GridFunction(H1(mesh,order=1))\n",
    "   InterpolateToP1(lset+offset,lset_approx_band)\n",
    "   ci = CutInfo(mesh, lset_approx_band)\n",
    "   ba_band_IF_P |= ci.GetElementsOfType(POS)\n",
    "   ba_band_IF_P |= ci.GetElementsOfType(IF)\n",
    "   \n",
    "   InterpolateToP1(lset-offset,lset_approx_band)\n",
    "   ci = CutInfo(mesh, lset_approx_band)\n",
    "   ba_band_IF_M |= ci.GetElementsOfType(NEG)\n",
    "   ba_band_IF_M |= ci.GetElementsOfType(IF)\n",
    "\n",
    "   ba_band_IF |= ba_band_IF_P\n",
    "   ba_band_IF &= ba_band_IF_M\n",
    "      \n",
    "   for i in range(mesh.ne):\n",
    "      visband.vec[i] = ba_band_IF[i]\n",
    "UpdateBand(levelset_function(0),0.1,ba_band_IF)        \n",
    "Redraw()"
   ]
  },
  {
   "cell_type": "markdown",
   "metadata": {},
   "source": [
    "Some parameters:"
   ]
  },
  {
   "cell_type": "code",
   "execution_count": null,
   "metadata": {},
   "outputs": [],
   "source": [
    "told = 0\n",
    "dt = 0.0025\n",
    "T = 0.2/vel\n",
    "nu = 2*R*R\n",
    "\n",
    "timestep = 0\n",
    "\n",
    "gfu.Set(solution_function(0))\n",
    "Draw(IfPos(visband-0.1,gfu,nan),mesh,\"gfu\")\n",
    "\n",
    "visoptions.autoscale = 0\n",
    "visoptions.mminval = 0.5\n",
    "visoptions.mmaxval = 1.5\n",
    "visoptions.deformation = 1\n",
    "visoptions.scaledeform1 = 1\n"
   ]
  },
  {
   "cell_type": "markdown",
   "metadata": {},
   "source": [
    "The time stepping loop:\n",
    " * determining the new interface position for the new integrals\n",
    " * Setting up the band of relevant elements\n",
    " * marking dofs accordingly\n",
    " * setting up matrix and r.h.s. \n",
    " * solving the linear system\n",
    " * continuing ot next time step"
   ]
  },
  {
   "cell_type": "code",
   "execution_count": null,
   "metadata": {},
   "outputs": [],
   "source": [
    "while (told < T-dt/2):\n",
    "   tnew = told + dt\n",
    "   t.Set(tnew)\n",
    "\n",
    "   InterpolateToP1(levelset_function(tnew),lset_approx)\n",
    "   ci = CutInfo(mesh, lset_approx)\n",
    "   ba_new_IF = ci.GetElementsOfType(IF)\n",
    "   \n",
    "   UpdateBand(levelset_function(tnew),vel*dt,ba_band_IF)\n",
    "\n",
    "   InterpolateToP1(levelset_function(tnew),lset_approx)\n",
    "   \n",
    "   active_dofs = BitArray(VhG.ndof)\n",
    "   active_dofs.Clear()\n",
    "   active_dofs |= GetDofsOfElements(VhG,ba_band_IF)\n",
    "\n",
    "   # a = BilinearForm(VhG, symmetric = False, flags = { })\n",
    "   a = RestrictedBilinearForm(VhG, element_restriction=ba_band_IF, facet_restriction=None, check_unused=False)\n",
    "\n",
    "   w = velocity_function(tnew)\n",
    "   divGw = divGw_function(tnew)\n",
    "   divGwT = divGwT_function(tnew)\n",
    "       \n",
    "   a += SymbolicBFI(levelset_domain = lset_if ,\n",
    "                         form =\n",
    "                         dt * (divGw-0.5*divGwT)*u*v\n",
    "                         + dt * nu * P(grad(u)) * P(grad(v))\n",
    "                         + dt * 0.5*P(w)*P(grad(u))*v - dt * 0.5*P(w)*P(grad(v))*u\n",
    "                         + u * v, definedonelements=ba_new_IF)\n",
    "   rho = (vel + nu/h)\n",
    "   a += SymbolicBFI(form = dt*rho*(grad(u)*n)*(grad(v)*n), definedonelements=ba_band_IF)\n",
    "\n",
    "   a.Assemble()\n",
    "     \n",
    "   f = LinearForm(VhG)\n",
    "   f += SymbolicLFI(levelset_domain = lset_if, form = gfu * v,definedonelements=ba_new_IF)\n",
    "   f.Assemble();\n",
    "\n",
    "   gfu.vec.data = a.mat.Inverse(active_dofs, inverse=\"umfpack\") * f.vec\n",
    "   Redraw(blocking=True)\n",
    "\n",
    "   told = tnew\n",
    "   timestep += 1\n",
    "\n",
    "print(\"\")\n",
    "print(\"finished run\")\n",
    "print(\"\")\n"
   ]
  },
  {
   "cell_type": "code",
   "execution_count": null,
   "metadata": {},
   "outputs": [],
   "source": []
  }
 ],
 "metadata": {
  "kernelspec": {
   "display_name": "Python 3",
   "language": "python",
   "name": "python3"
  },
  "language_info": {
   "codemirror_mode": {
    "name": "ipython",
    "version": 3
   },
   "file_extension": ".py",
   "mimetype": "text/x-python",
   "name": "python",
   "nbconvert_exporter": "python",
   "pygments_lexer": "ipython3",
   "version": "3.6.5"
  }
 },
 "nbformat": 4,
 "nbformat_minor": 2
}
