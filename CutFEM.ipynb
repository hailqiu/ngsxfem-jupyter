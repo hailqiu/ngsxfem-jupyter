{
 "cells": [
  {
   "cell_type": "code",
   "execution_count": null,
   "metadata": {},
   "outputs": [],
   "source": [
    "TODO : merge with unfittedFEM.ipynb"
   ]
  },
  {
   "cell_type": "markdown",
   "metadata": {
    "slideshow": {
     "slide_type": "slide"
    }
   },
   "source": [
    "# CutFEM by ngsxfem\n",
    "\n",
    "## To solve unfitted interface problem\n"
   ]
  },
  {
   "cell_type": "markdown",
   "metadata": {
    "slideshow": {
     "slide_type": "subslide"
    }
   },
   "source": [
    "\n",
    "\n",
    "The PDE and interface/boundary conditions: \n",
    "\n",
    "$$\n",
    "\\begin{aligned}\n",
    "          - \\nabla \\cdot (\\alpha_{\\pm} \\nabla u) = & \\, f \n",
    "          & & \\text{in}~~ \\Omega_{\\pm}, \n",
    "          \\\\\n",
    "          [u]_{\\Gamma} = & \\, 0 \n",
    "          &  & \\text{on}~~ \\Gamma, \n",
    "          \\\\\n",
    "          [-\\alpha \\nabla u \\cdot \\mathbf{n}]_{\\Gamma}   = & \\, 0 \n",
    "          &  & \\text{on}~~ \\Gamma,\n",
    "          \\\\\n",
    "          u = & \\, u_D\n",
    "          &  & \\text{on}~~ \\partial \\Omega.\n",
    "        \\end{aligned}\n",
    "$$"
   ]
  },
  {
   "cell_type": "markdown",
   "metadata": {
    "slideshow": {
     "slide_type": "subslide"
    }
   },
   "source": [
    "To find the solution $u$ in two subdomains:\n",
    "\n",
    "$$\n",
    "u = \\left\\{ \\begin{array}{cc} u_- & \\text{ in } \\Omega_-, \\\\ u_+ & \\text{ in } \\Omega_+. \\end{array} \\right.\n",
    "$$"
   ]
  },
  {
   "cell_type": "markdown",
   "metadata": {
    "slideshow": {
     "slide_type": "subslide"
    }
   },
   "source": [
    "## Weak formulation of Nitsche's method\n",
    "\n",
    "\n",
    "To find $u \\in V_h^\\Gamma := V_h |_{\\Omega_+^\\text{lin}} \\oplus V_h |_{\\Omega_-^\\text{lin}}$ such that\n",
    "$$\n",
    "a(u,v) = f(v) \\qquad \\forall v \\in V_h^\\Gamma\n",
    "$$\n",
    "where\n",
    "$$\n",
    "\\begin{aligned}\n",
    "a(u,v) = & \\int_{\\Omega_\\pm} \\alpha_\\pm \\nabla u \\nabla v \\,d\\omega \n",
    "         - \\int_{\\Gamma} \\{ \\alpha \\nabla u \\cdot \\mathbf{n} \\} [v] \\,d\\gamma \n",
    "         - \\int_{\\Gamma} \\{ \\alpha \\nabla v \\cdot \\mathbf{n} \\} [u] \\,d\\gamma\n",
    "         + \\int_{\\Gamma} \\frac{\\lambda}{h} \\overline{\\alpha} [u] [v] \\,d\\gamma \\\\\n",
    "f(v) = & \\int_{\\Omega_-} f_-^\\text{mf} v \\, d\\omega\n",
    "       + \\int_{\\Omega_+} f_+^\\text{mf} v \\, d\\omega\n",
    "\\end{aligned}\n",
    "$$\n",
    "\n",
    "$\\{\\cdot\\}$ denotes the Hansbo-averaging $\\{v\\}:=\\sum_{i=1}^2 \\kappa_i v_i$ with the cut ratio $\\kappa_i = \\frac{|T_i|}{|T|}$; \n",
    "\n",
    "$[\\cdot]$ denotes the jump across the interface; \n",
    "\n",
    "$\\lambda$ denotes the stabilization parameter that has to be chosen larger than a constant depending on the shape regularity of $T$. "
   ]
  },
  {
   "cell_type": "markdown",
   "metadata": {
    "slideshow": {
     "slide_type": "slide"
    }
   },
   "source": [
    "## NGSolve Setup\n",
    "\n",
    "First of all, let's import netgen, ngsolve, and xfem libraries. "
   ]
  },
  {
   "cell_type": "code",
   "execution_count": 1,
   "metadata": {
    "scrolled": true,
    "slideshow": {
     "slide_type": "fragment"
    }
   },
   "outputs": [],
   "source": [
    "import netgen.gui\n",
    "%gui tk\n",
    "import tkinter\n",
    "\n",
    "# the constant pi\n",
    "from math import pi\n",
    "# ngsolve stuff\n",
    "from ngsolve import *\n",
    "# visualization stuff\n",
    "from ngsolve.internal import *\n",
    "# basic xfem functionality\n",
    "from xfem import *\n",
    "from xfem.lsetcurv import *\n",
    "# basic geometry features (for the background mesh)\n",
    "from netgen.geom2d import SplineGeometry\n",
    "from netgen.csg import *\n",
    "# error plot features\n",
    "import matplotlib.pyplot as plt"
   ]
  },
  {
   "cell_type": "markdown",
   "metadata": {
    "slideshow": {
     "slide_type": "subslide"
    }
   },
   "source": [
    "## Mesh generation\n",
    "\n",
    "Second, let's generate a mesh of triangles for a square domain $[-1.5,1.5]^2$ centered on the origin. "
   ]
  },
  {
   "cell_type": "code",
   "execution_count": 2,
   "metadata": {
    "slideshow": {
     "slide_type": "fragment"
    }
   },
   "outputs": [],
   "source": [
    "# We generate the background mesh of the domain and use a simplicial triangulation\n",
    "# To obtain a mesh with quadrilaterals use 'quad_dominated=True'\n",
    "square = SplineGeometry()\n",
    "square.AddRectangle([-1.5,-1.5],[1.5,1.5],bc=1)\n",
    "mesh = Mesh (square.GenerateMesh(maxh=0.2, quad_dominated=False))\n",
    "Draw(mesh)"
   ]
  },
  {
   "cell_type": "markdown",
   "metadata": {
    "slideshow": {
     "slide_type": "slide"
    }
   },
   "source": [
    "## Manufactured solution\n",
    "\n",
    "To meassure the error of our numerical solution, we can employ a manufactured solution $u$ such that\n",
    "\n",
    "$$\n",
    "u = \\left\\{ \\begin{array}{cc} 1 + \\frac{\\pi}{2} - \\sqrt{2}\\cos\\frac{\\pi}{4}(x^4 + y^4) & \\text{ in } \\Omega_-, \\\\ \\frac{\\pi}{2}(x^4 + y^4)^{\\frac{1}{4}} & \\text{ in } \\Omega_+, \\end{array} \\right.\n",
    "$$\n",
    "\n",
    "with corresponding source term $f_{\\pm}^\\text{mf}$."
   ]
  },
  {
   "cell_type": "code",
   "execution_count": 3,
   "metadata": {
    "slideshow": {
     "slide_type": "subslide"
    }
   },
   "outputs": [],
   "source": [
    "# manufactured solution and corresponding r.h.s. data CoefficientFunctions:\n",
    "r44 = (x*x*x*x+y*y*y*y)\n",
    "r41 = sqrt(sqrt(x*x*x*x+y*y*y*y))\n",
    "r4m3 = (1.0/(r41*r41*r41))\n",
    "r66 = (x*x*x*x*x*x+y*y*y*y*y*y)\n",
    "r63 = sqrt(r66)\n",
    "r22 = (x*x+y*y)\n",
    "r21 = sqrt(r22)\n",
    "solution = [1.0+pi/2.0-sqrt(2.0)*cos(pi/4.0*r44),pi/2.0*r41]\n",
    "coef_f = [ (-1.0*sqrt(2.0)*pi*(pi*cos(pi/4*(r44))*(r66)+3*sin(pi/4*(r44))*(r22))),\n",
    "          (-2.0*pi*3/2*(r4m3)*(-(r66)/(r44)+(r22))) ]"
   ]
  },
  {
   "cell_type": "markdown",
   "metadata": {
    "slideshow": {
     "slide_type": "subslide"
    }
   },
   "source": [
    "## Diffusion coefficients\n",
    "\n",
    "The diffusion coefficients $\\alpha_{\\pm}$ are\n",
    "\n",
    "$$\n",
    "\\alpha_{\\pm} = \\left\\{ \\begin{array}{cc} 1 & \\text{ in } \\Omega_-, \\\\ \n",
    "         2 & \\text{ in } \\Omega_+. \\end{array} \\right.\n",
    "$$"
   ]
  },
  {
   "cell_type": "code",
   "execution_count": 4,
   "metadata": {
    "slideshow": {
     "slide_type": "fragment"
    }
   },
   "outputs": [],
   "source": [
    "# diffusion coefficients for the subdomains (NEG/POS):\n",
    "alpha = [1.0,2.0]"
   ]
  },
  {
   "cell_type": "markdown",
   "metadata": {
    "slideshow": {
     "slide_type": "slide"
    }
   },
   "source": [
    "## Level set function\n",
    "\n",
    "Let's define a level set function $\\phi = (x^4 + y^4)^{\\frac{1}{4}} - 1$ to split the background domain and to describe the interface by $\\phi = 0$ such that\n",
    "\n",
    "$$\n",
    "  \\Omega_{-} := \\{ \\phi < 0 \\}, \\quad\n",
    "  \\Omega_{+} := \\{ \\phi > 0 \\}, \\quad\n",
    "  \\Gamma := \\{ \\phi = 0 \\}.\n",
    "$$"
   ]
  },
  {
   "cell_type": "code",
   "execution_count": 5,
   "metadata": {
    "slideshow": {
     "slide_type": "fragment"
    }
   },
   "outputs": [],
   "source": [
    "# level set function of the domain (phi = ||x||_4 - 1) and its interpolation:\n",
    "levelset = (sqrt(sqrt(x*x*x*x+y*y*y*y)) - 1.0)\n",
    "Draw(levelset,mesh,\"levelset\")\n",
    "visoptions.mminval = 0\n",
    "visoptions.mmaxval = 0\n",
    "visoptions.autoscale = 0\n",
    "visoptions.deformation = 1\n",
    "Redraw()"
   ]
  },
  {
   "cell_type": "markdown",
   "metadata": {
    "slideshow": {
     "slide_type": "subslide"
    }
   },
   "source": [
    "## The 1st order approximation\n",
    "\n",
    "We then approximate the level set function numerically by piecewise linear interpolation, denoted by $\\phi_h^\\text{lin}$: "
   ]
  },
  {
   "cell_type": "code",
   "execution_count": 6,
   "metadata": {
    "slideshow": {
     "slide_type": "fragment"
    }
   },
   "outputs": [],
   "source": [
    "lsetp1 = GridFunction(H1(mesh,order=1))\n",
    "InterpolateToP1(levelset,lsetp1)\n",
    "Draw(lsetp1,mesh,\"levelset_P1\")\n",
    "visoptions.mminval = 0\n",
    "visoptions.mmaxval = 0\n",
    "visoptions.autoscale = 0\n",
    "visoptions.deformation = 1\n",
    "Redraw()"
   ]
  },
  {
   "cell_type": "markdown",
   "metadata": {
    "slideshow": {
     "slide_type": "fragment"
    }
   },
   "source": [
    "We denote the discrete level set function by $\\phi_h$, while the discrete subdomains $\\Omega_+^\\text{lin}$ and $\\Omega_-^\\text{lin}$. "
   ]
  },
  {
   "cell_type": "markdown",
   "metadata": {
    "slideshow": {
     "slide_type": "slide"
    }
   },
   "source": [
    "## Cut FE space\n",
    "\n",
    "For the finite element discretization, we use standard background FE Spaces restricted to the subdomains:\n",
    "$$\n",
    "V_h^\\Gamma = V_h |_{\\Omega_+^\\text{lin}} \\oplus V_h |_{\\Omega_-^\\text{lin}}\n",
    "$$"
   ]
  },
  {
   "cell_type": "code",
   "execution_count": 7,
   "metadata": {
    "slideshow": {
     "slide_type": "fragment"
    }
   },
   "outputs": [
    {
     "name": "stdout",
     "output_type": "stream",
     "text": [
      "unknowns in background FESpace (2 x standard unknowns):  2330\n"
     ]
    }
   ],
   "source": [
    "# Background FESpaces (used as CutFESpaces lateron):\n",
    "Vh = H1(mesh, order = 2, dirichlet = [1,2,3,4])\n",
    "VhG = FESpace([Vh,Vh])\n",
    "print(\"unknowns in background FESpace (2 x standard unknowns): \", VhG.ndof)"
   ]
  },
  {
   "cell_type": "markdown",
   "metadata": {
    "slideshow": {
     "slide_type": "fragment"
    }
   },
   "source": [
    "In NGSolve/ngsxfem, we simply take the product space $V_h \\times V_h$ but mark the irrelevant dofs using the CutInfo-class. "
   ]
  },
  {
   "cell_type": "markdown",
   "metadata": {
    "slideshow": {
     "slide_type": "subslide"
    }
   },
   "source": [
    "## Information about cut elements\n",
    "\n",
    "To know which elements are cut by the interface $ \\Gamma = \\{ \\phi = 0 \\} $, the CutInfo-class is ultilized: "
   ]
  },
  {
   "cell_type": "code",
   "execution_count": 8,
   "metadata": {
    "slideshow": {
     "slide_type": "fragment"
    }
   },
   "outputs": [],
   "source": [
    "# Gathering information on cut elements:\n",
    "#  * domain of (volume/boundary) element:\n",
    "#    * NEG= only negative level set values\n",
    "#    * POS= only positive level set values\n",
    "#    * IF= cut element (negative and positive) level set values\n",
    "#  * cut ratio:\n",
    "#    If element is cut this describes the ratio between the measure of part in the negative domain\n",
    "#    and the measure of the full element.\n",
    "ci = CutInfo(mesh, lsetp1)"
   ]
  },
  {
   "cell_type": "markdown",
   "metadata": {
    "slideshow": {
     "slide_type": "subslide"
    }
   },
   "source": [
    "## Free dofs setup\n",
    "\n",
    "We then find our free degrees of freedoms (unknowns to be solved for) by using GetElementsOfType-class. We can ask for BitArrays corresponding to the differently marked elements: \n",
    "  * NEG : True if $\\phi < 0$ everywhere on this element, else False\n",
    "  * POS : True if $\\phi > 0$ everywhere on this element, else False\n",
    "  * IF : True if $\\phi = 0$ somewhere on this element, else False  \n",
    "  * HASNEG: True if $\\phi < 0$ somewhere on this element, else False \n",
    "  * HASPOS: True if $\\phi > 0$ somewhere on this element, else False "
   ]
  },
  {
   "cell_type": "code",
   "execution_count": 9,
   "metadata": {
    "slideshow": {
     "slide_type": "subslide"
    }
   },
   "outputs": [],
   "source": [
    "# Overwrite freedofs (degrees of freedoms that should be solved for) of VhG to mark only dofs that\n",
    "# are involved in the cut problem. Use cut information of ci here:\n",
    "hasneg = ci.GetElementsOfType(HASNEG)  # <- \"hasneg\": has (also) negative level set values\n",
    "haspos = ci.GetElementsOfType(HASPOS)  # <- \"haspos\": has (also) positive level set values\n",
    "freedofs = VhG.FreeDofs()\n",
    "freedofs &= CompoundBitArray([GetDofsOfElements(Vh,hasneg),GetDofsOfElements(Vh,haspos)])"
   ]
  },
  {
   "cell_type": "markdown",
   "metadata": {
    "slideshow": {
     "slide_type": "slide"
    }
   },
   "source": [
    "## Discrete normal and mesh size\n",
    "\n",
    "The normal direction can be obtained from the piecewise linear interpolation of the level set function:\n",
    "$$\n",
    "  n_h^\\text{lin} = \\frac{\\nabla \\phi_h^\\text{lin}}{\\Vert \\nabla \\phi_h^\\text{lin} \\Vert}. \n",
    "$$\n",
    "\n",
    "And the mesh size $h$ can be obtained by a coefficient function. "
   ]
  },
  {
   "cell_type": "code",
   "execution_count": 10,
   "metadata": {
    "slideshow": {
     "slide_type": "fragment"
    }
   },
   "outputs": [],
   "source": [
    "# coefficients / parameters:\n",
    "n = 1.0/grad(lsetp1).Norm() * grad(lsetp1)\n",
    "h = specialcf.mesh_size"
   ]
  },
  {
   "cell_type": "markdown",
   "metadata": {
    "slideshow": {
     "slide_type": "subslide"
    }
   },
   "source": [
    "## Cut ratio and Nitsche parameter\n",
    "\n",
    "We store the cut ratio data in $\\kappa$, and set a parameter $\\lambda\\frac{\\overline{\\alpha}}{h}$ for Nitsche's stabilization. "
   ]
  },
  {
   "cell_type": "code",
   "execution_count": 11,
   "metadata": {
    "slideshow": {
     "slide_type": "fragment"
    }
   },
   "outputs": [],
   "source": [
    "# the cut ratio extracted from the cutinfo-class\n",
    "kappa = (CutRatioGF(ci),1.0-CutRatioGF(ci))\n",
    "# Nitsche stabilization parameter:\n",
    "stab = 20*(alpha[1]+alpha[0])/h"
   ]
  },
  {
   "cell_type": "markdown",
   "metadata": {
    "slideshow": {
     "slide_type": "slide"
    }
   },
   "source": [
    "## Trial and test functions\n",
    "\n",
    "Let's setup trial and test functions, and the gradient of each component. For the numerical fluxes we choose the Hansbo-averaging where the averages are adjusted to the local cut configuration in order to ensure stability of the Nitsche formulation. "
   ]
  },
  {
   "cell_type": "code",
   "execution_count": 12,
   "metadata": {
    "slideshow": {
     "slide_type": "fragment"
    }
   },
   "outputs": [],
   "source": [
    "# expressions of test and trial functions (u and v are tuples):\n",
    "u = VhG.TrialFunction()\n",
    "v = VhG.TestFunction()\n",
    "\n",
    "gradu = [grad(ui) for ui in u]\n",
    "gradv = [grad(vi) for vi in v]\n",
    "\n",
    "average_flux_u = sum([- kappa[i] * alpha[i] * gradu[i] * n for i in [0,1]])\n",
    "average_flux_v = sum([- kappa[i] * alpha[i] * gradv[i] * n for i in [0,1]])"
   ]
  },
  {
   "cell_type": "markdown",
   "metadata": {
    "slideshow": {
     "slide_type": "subslide"
    }
   },
   "source": [
    "## Numerical integration of CutFEM\n",
    "\n",
    "To integrate over the subdomains or the interface only with a SymbolicBFI, we have to add a levelset_domain argument which is a dictionary: "
   ]
  },
  {
   "cell_type": "code",
   "execution_count": 13,
   "metadata": {
    "slideshow": {
     "slide_type": "fragment"
    }
   },
   "outputs": [],
   "source": [
    "# Integration domains for integration on negative/positive subdomains and on the interface:\n",
    "# Here, the integration is (geometrically) exact if the \"levelset\"-argument is a piecewise\n",
    "# (multi-)linear function. The integration order is chosen according to the arguments in the\n",
    "# multilinear forms (but can be overwritten with \"force_intorder\" in the integration domain). If the\n",
    "# \"levelset\"-argument is not a (multi-)linear function, you can use the \"subdivlvl\" argument to add\n",
    "# additional refinement levels for the geometry approximation. \n",
    "lset_neg = { \"levelset\" : lsetp1, \"domain_type\" : NEG, \"subdivlvl\" : 0}\n",
    "lset_pos = { \"levelset\" : lsetp1, \"domain_type\" : POS, \"subdivlvl\" : 0}\n",
    "lset_if  = { \"levelset\" : lsetp1, \"domain_type\" : IF , \"subdivlvl\" : 0}"
   ]
  },
  {
   "cell_type": "markdown",
   "metadata": {
    "slideshow": {
     "slide_type": "slide"
    }
   },
   "source": [
    "## The bi-/linear forms\n",
    "\n",
    "For the bilinear form we use a Nitsche formulation which involves averages of the fluxes and jumps of the solution across the interface. \n",
    "\n",
    "$$\n",
    "a(u,v) = \\int_{\\Omega_\\pm} \\alpha_\\pm \\nabla u \\nabla v \\,d\\omega \n",
    "       - \\int_{\\Gamma} \\{ \\alpha \\nabla u \\cdot \\mathbf{n} \\} [v] \\,d\\gamma \n",
    "       - \\int_{\\Gamma} \\{ \\alpha \\nabla v \\cdot \\mathbf{n} \\} [u] \\,d\\gamma\n",
    "       + \\int_{\\Gamma} \\frac{\\lambda}{h} \\overline{\\alpha} [u] [v] \\,d\\gamma\n",
    "$$\n",
    "where $\\{\\cdot\\}$ denotes the Hansbo-averaging, and $[\\cdot]$ the jump across the interface. "
   ]
  },
  {
   "cell_type": "markdown",
   "metadata": {
    "slideshow": {
     "slide_type": "subslide"
    }
   },
   "source": [
    "Specifically, we first integrate over the subdomains\n",
    "\n",
    "$$\n",
    "a(u,v) = \\int_{\\Omega_-} \\alpha_- \\nabla u \\nabla v \\, d\\omega \n",
    "       + \\int_{\\Omega_+} \\alpha_+ \\nabla u \\nabla v \\, d\\omega \n",
    "       + \\cdots\n",
    "$$"
   ]
  },
  {
   "cell_type": "code",
   "execution_count": 14,
   "metadata": {
    "slideshow": {
     "slide_type": "fragment"
    }
   },
   "outputs": [],
   "source": [
    "# bilinear forms:\n",
    "a = BilinearForm(VhG, symmetric = True)\n",
    "# l.h.s. domain integrals:\n",
    "a += SymbolicBFI(levelset_domain = lset_neg, form = alpha[0] * gradu[0] * gradv[0])\n",
    "a += SymbolicBFI(levelset_domain = lset_pos, form = alpha[1] * gradu[1] * gradv[1])"
   ]
  },
  {
   "cell_type": "markdown",
   "metadata": {
    "slideshow": {
     "slide_type": "subslide"
    }
   },
   "source": [
    "Then we add the consistency term and its symmetric counterpart into the bilinear form\n",
    "\n",
    "$$\n",
    "a(u,v) = \\cdots - \n",
    "         \\left( \\int_{\\Gamma} \\{ \\alpha \\nabla u \\cdot \\mathbf{n} \\} [v] \\, d\\gamma \n",
    "         + \\int_{\\Gamma} \\{ \\alpha \\nabla v \\cdot \\mathbf{n} \\} [u] \\, d\\gamma \\right) \n",
    "         + \\cdots\n",
    "$$"
   ]
  },
  {
   "cell_type": "code",
   "execution_count": 15,
   "metadata": {
    "slideshow": {
     "slide_type": "fragment"
    }
   },
   "outputs": [],
   "source": [
    "# Nitsche integrals:\n",
    "a += SymbolicBFI(levelset_domain = lset_if, form = average_flux_u * (v[0]-v[1])\n",
    "                                                 + average_flux_v * (u[0]-u[1]))"
   ]
  },
  {
   "cell_type": "markdown",
   "metadata": {
    "slideshow": {
     "slide_type": "subslide"
    }
   },
   "source": [
    "At last we add the stabilization term into the bilinear form\n",
    "\n",
    "$$\n",
    "a(u,v) = \\cdots +\n",
    "         \\int_{\\Gamma} \\frac{\\lambda}{h} \\overline{\\alpha} [u] [v] \\, d\\gamma\n",
    "$$"
   ]
  },
  {
   "cell_type": "code",
   "execution_count": 16,
   "metadata": {
    "scrolled": true,
    "slideshow": {
     "slide_type": "fragment"
    }
   },
   "outputs": [],
   "source": [
    "# Nitsche integrals:\n",
    "a += SymbolicBFI(levelset_domain = lset_if , form = stab * (u[0]-u[1]) * (v[0]-v[1]))"
   ]
  },
  {
   "cell_type": "markdown",
   "metadata": {
    "slideshow": {
     "slide_type": "subslide"
    }
   },
   "source": [
    "And for the linear form we apply the source term corresponding to our manufactured solution. \n",
    "\n",
    "$$\n",
    "f(v) = \\int_{\\Omega_-} f_-^\\text{mf} v \\, d\\omega + \n",
    "       \\int_{\\Omega_+} f_+^\\text{mf} v \\, d\\omega\n",
    "$$"
   ]
  },
  {
   "cell_type": "code",
   "execution_count": 17,
   "metadata": {
    "slideshow": {
     "slide_type": "fragment"
    }
   },
   "outputs": [],
   "source": [
    "f = LinearForm(VhG)\n",
    "# r.h.s. domain integrals:\n",
    "f += SymbolicLFI(levelset_domain = lset_neg, form = coef_f[0] * v[0])\n",
    "f += SymbolicLFI(levelset_domain = lset_pos, form = coef_f[1] * v[1])"
   ]
  },
  {
   "cell_type": "markdown",
   "metadata": {
    "slideshow": {
     "slide_type": "subslide"
    }
   },
   "source": [
    "## Assemble\n",
    "\n",
    "Let's build a GridFunction to store our discrete solution, with designated boundary conditions, then do the assembles. "
   ]
  },
  {
   "cell_type": "code",
   "execution_count": 18,
   "metadata": {
    "slideshow": {
     "slide_type": "fragment"
    }
   },
   "outputs": [],
   "source": [
    "# solution vector\n",
    "gfu = GridFunction(VhG)\n",
    "\n",
    "# setting domain boundary conditions:\n",
    "gfu.components[1].Set(solution[1], BND)\n",
    "\n",
    "# setting up matrix and vector\n",
    "a.Assemble()\n",
    "f.Assemble()"
   ]
  },
  {
   "cell_type": "markdown",
   "metadata": {
    "slideshow": {
     "slide_type": "slide"
    }
   },
   "source": [
    "## To solve the linear system\n",
    "\n",
    "We can now solve the problem as a linear system, and obtain our numerical solution stored in the GridFunction. "
   ]
  },
  {
   "cell_type": "code",
   "execution_count": 19,
   "metadata": {
    "slideshow": {
     "slide_type": "fragment"
    }
   },
   "outputs": [],
   "source": [
    "# homogenization of boundary data and solution of linear system\n",
    "def SolveLinearSystem():\n",
    "    rhs = gfu.vec.CreateVector()\n",
    "    rhs.data = f.vec - a.mat * gfu.vec\n",
    "    update = gfu.vec.CreateVector()\n",
    "    update.data = a.mat.Inverse(freedofs) * rhs\n",
    "    gfu.vec.data += update\n",
    "SolveLinearSystem()"
   ]
  },
  {
   "cell_type": "markdown",
   "metadata": {
    "slideshow": {
     "slide_type": "fragment"
    }
   },
   "source": [
    "Recall that the freedofs only marks relevant dofs. "
   ]
  },
  {
   "cell_type": "markdown",
   "metadata": {
    "slideshow": {
     "slide_type": "subslide"
    }
   },
   "source": [
    "## Visualization\n",
    "\n",
    "Let's plot the exact level set function $\\phi$, its interpolation $\\phi_h^\\text{lin}$, and the numerical solution $u_h$ in $\\Omega_-$ and $\\Omega_+$ respectively. "
   ]
  },
  {
   "cell_type": "code",
   "execution_count": 20,
   "metadata": {
    "slideshow": {
     "slide_type": "fragment"
    }
   },
   "outputs": [],
   "source": [
    "# visualization of (discrete) solution: Wherever (interpolated) level set function is negative\n",
    "# visualize the first component, where it is positive visualize the second component\n",
    "u_coef = IfPos(lsetp1, gfu.components[1], gfu.components[0])\n",
    "\n",
    "# visualize levelset, interpolated levelset and discrete solution:\n",
    "# (Note that the visualization does not respect the discontinuities. They are smeared out. To see\n",
    "#  kinks or jumps more clearly increase the subdivision option in the visualization.)\n",
    "Draw(u_coef,mesh,\"u\")\n",
    "visoptions.mminval = 0\n",
    "visoptions.mmaxval = 0\n",
    "visoptions.autoscale = 1\n",
    "visoptions.deformation = 1\n",
    "Redraw()"
   ]
  },
  {
   "cell_type": "markdown",
   "metadata": {
    "slideshow": {
     "slide_type": "subslide"
    }
   },
   "source": [
    "## Computation of errors\n",
    "\n",
    "Let's compute the $L^2$-error of our numerical solution $u_h$ by: \n",
    "$$\n",
    "  \\Vert u - u_h \\Vert_{L^2}^2 = \\int_{\\Omega_+ \\bigcup \\Omega_-} (u - u_h)^2 \\, d\\omega\n",
    "$$"
   ]
  },
  {
   "cell_type": "code",
   "execution_count": 21,
   "metadata": {
    "slideshow": {
     "slide_type": "fragment"
    }
   },
   "outputs": [
    {
     "name": "stdout",
     "output_type": "stream",
     "text": [
      "L2 error:  0.018719667217329775\n"
     ]
    }
   ],
   "source": [
    "def ComputeError():\n",
    "    # Error coefficients:\n",
    "    err_sqr_coefs = [(gfu.components[i]-solution[i])*(gfu.components[i]-solution[i]) for i in [0,1] ]\n",
    "\n",
    "    # Computation of L2 error:\n",
    "    l2error = sqrt(Integrate( levelset_domain=lset_neg, cf=err_sqr_coefs[0], mesh=mesh, order=2)\n",
    "              + Integrate( levelset_domain=lset_pos, cf=err_sqr_coefs[1], mesh=mesh, order=2))\n",
    "\n",
    "    print(\"L2 error: \",l2error)\n",
    "ComputeError()"
   ]
  },
  {
   "cell_type": "markdown",
   "metadata": {
    "slideshow": {
     "slide_type": "slide"
    }
   },
   "source": [
    "## Geometrically high order accurary\n",
    "### by SetDeformation-class\n",
    "\n",
    "To be polished. "
   ]
  },
  {
   "cell_type": "code",
   "execution_count": 22,
   "metadata": {
    "slideshow": {
     "slide_type": "fragment"
    }
   },
   "outputs": [
    {
     "name": "stdout",
     "output_type": "stream",
     "text": [
      "L2 error:  0.0006149664260797689\n"
     ]
    }
   ],
   "source": [
    "lsetad = LevelSetMeshAdaptation(mesh, order = 3, threshold = 1000, discontinuous_qn = True)\n",
    "deform = lsetad.CalcDeformation(levelset)\n",
    "\n",
    "mesh.SetDeformation(deform)\n",
    "a.Assemble()\n",
    "f.Assemble()\n",
    "SolveLinearSystem()\n",
    "ComputeError()\n",
    "mesh.UnsetDeformation()"
   ]
  },
  {
   "cell_type": "markdown",
   "metadata": {
    "slideshow": {
     "slide_type": "slide"
    }
   },
   "source": [
    "# Thank you for your attention! "
   ]
  }
 ],
 "metadata": {
  "celltoolbar": "Slideshow",
  "kernelspec": {
   "display_name": "Python 3",
   "language": "python",
   "name": "python3"
  },
  "language_info": {
   "codemirror_mode": {
    "name": "ipython",
    "version": 3
   },
   "file_extension": ".py",
   "mimetype": "text/x-python",
   "name": "python",
   "nbconvert_exporter": "python",
   "pygments_lexer": "ipython3",
   "version": "3.6.5"
  }
 },
 "nbformat": 4,
 "nbformat_minor": 2
}
